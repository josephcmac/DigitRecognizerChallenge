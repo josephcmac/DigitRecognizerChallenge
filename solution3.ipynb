{
 "cells": [
  {
   "cell_type": "code",
   "execution_count": null,
   "metadata": {},
   "outputs": [],
   "source": [
    "from pyspark.sql import SparkSession\n",
    "from pyspark.sql.types import IntegerType, FloatType, StructField, StructType\n",
    "from numpy import array\n",
    "from keras.models import Sequential\n",
    "from keras.layers import Dense, Dropout, Flatten\n",
    "from keras.layers import Conv2D, MaxPooling2D\n",
    "from tensorflow.keras.utils import to_categorical\n",
    "from tensorflow import convert_to_tensor\n",
    "from tensorflow import reshape\n",
    "from numpy import argmax\n",
    "\n",
    "spark = SparkSession.builder.getOrCreate()\n",
    "df = spark.read.option(\"header\", True).option(\"inferSchema\", True).csv('train.csv')\n",
    "L = array([list(train.asDict().values()) for train in df.collect()])\n",
    "del(df)\n",
    "x_train = L[:,1:785]\n",
    "y_train = L[:,0]\n",
    "del(L)\n",
    "x_train = [x/255. for x in x_train]\n",
    "x_train = convert_to_tensor(x_train, dtype=\"float32\")\n",
    "x_train = reshape(x_train, (x_train.shape[0], 28, 28, 1))\n",
    "df = spark.read.option(\"header\", True).option(\"inferSchema\", True).csv('test.csv')\n",
    "x_pred = array([list(train.asDict().values()) for train in df.collect()])\n",
    "del(df)\n",
    "x_pred = [x/255. for x in x_pred]\n",
    "x_pred = convert_to_tensor(x_pred, dtype=\"float32\")\n",
    "x_pred = reshape(x_pred, (x_pred.shape[0], 28, 28, 1))"
   ]
  },
  {
   "cell_type": "code",
   "execution_count": null,
   "metadata": {},
   "outputs": [],
   "source": [
    "for d in range(10):\n",
    "    model = Sequential()\n",
    "    model.add(Conv2D(32, kernel_size=(3,3), activation='relu', input_shape=(28,28,1)))\n",
    "    model.add(Conv2D(64, (3, 3), activation='tanh'))\n",
    "    model.add(MaxPooling2D(pool_size=(2, 2)))\n",
    "    model.add(Dropout(0.5))\n",
    "    model.add(Flatten())\n",
    "    model.add(Dense(128, activation='relu'))\n",
    "    model.add(Dropout(0.25))\n",
    "    model.add(Dense(2, activation='softmax'))\n",
    "    model.compile(loss='binary_crossentropy', optimizer='adam', metrics=['accuracy'])\n",
    "    y_trainD = [ to_categorical( 1 if y == d else 0 , 2) for y in y_train ]\n",
    "    y_trainD = convert_to_tensor(y_trainD, dtype=\"float32\")\n",
    "    model.fit(x_train, y_trainD, batch_size=10, epochs=20, shuffle=True)\n",
    "    del(y_trainD)\n",
    "    y_pred = model.predict(x_pred, batch_size=10)\n",
    "    y_pred = [ y_pred[j][1] for j in range( len(y_pred) ) ]\n",
    "    y_pred = [(j+1, float(y_pred[j])) for j in range(len(y_pred))]\n",
    "    output_df = spark.createDataFrame(spark.sparkContext.parallelize(y_pred),  StructType([\n",
    "            StructField('ImageId', IntegerType(), True),\n",
    "            StructField('Probability', FloatType(), True)\n",
    "        ]))\n",
    "    output_df.toPandas().to_csv('component'+str(d)+'.csv', index=False)"
   ]
  },
  {
   "cell_type": "code",
   "execution_count": null,
   "metadata": {},
   "outputs": [],
   "source": [
    "L = []\n",
    "for d in range(10):\n",
    "    df = spark.read.option(\"inferScheme\", True).option(\"header\",True).csv('component'+str(d)+'.csv')\n",
    "    L.append([row.asDict()['Probability'] for row in df.collect()] ) \n",
    "del(df)\n",
    "S = []\n",
    "for j in range(len(L[0])):\n",
    "    prob = [ float(L[d][j]) for d in range(10) ]\n",
    "\n",
    "    S.append( (int(j+1), int(argmax(prob)) ) )\n",
    "output_df = spark.createDataFrame( spark.sparkContext.parallelize(S), StructType([\n",
    "    StructField(\"ImageId\", IntegerType(), True),\n",
    "    StructField(\"Label\", IntegerType(), True)\n",
    "]))\n",
    "output_df.toPandas().to_csv('submission.csv', index = False)"
   ]
  }
 ],
 "metadata": {
  "interpreter": {
   "hash": "609d861bae671264e9878e9f2f5a015669cd6b7c553d269671411b0c8e33f9ae"
  },
  "kernelspec": {
   "display_name": "Python 3.7.11 64-bit ('py37': conda)",
   "language": "python",
   "name": "python3"
  },
  "language_info": {
   "codemirror_mode": {
    "name": "ipython",
    "version": 3
   },
   "file_extension": ".py",
   "mimetype": "text/x-python",
   "name": "python",
   "nbconvert_exporter": "python",
   "pygments_lexer": "ipython3",
   "version": "3.7.11"
  },
  "orig_nbformat": 4
 },
 "nbformat": 4,
 "nbformat_minor": 2
}
